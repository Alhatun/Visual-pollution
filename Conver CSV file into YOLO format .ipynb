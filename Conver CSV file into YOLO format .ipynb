{
 "cells": [
  {
   "cell_type": "code",
   "execution_count": 19,
   "id": "87dc207d",
   "metadata": {},
   "outputs": [],
   "source": [
    "import pandas as pd\n",
    "import os"
   ]
  },
  {
   "cell_type": "code",
   "execution_count": 24,
   "id": "68049eb0",
   "metadata": {},
   "outputs": [],
   "source": [
    "# Read the CSV file\n",
    "df = pd.read_csv('D:/dataset/dataset/dataset/train.csv')\n",
    "\n",
    "# Extract the columns with the bounding box coordinates and class labels\n",
    "xmin = df['xmin']\n",
    "ymin = df['ymin']\n",
    "xmax = df['xmax']\n",
    "ymax = df['ymax']\n",
    "class_labels = df['name']\n",
    "image_names = df['image_path']\n",
    "\n",
    "# Create a directory to store the sprite files\n",
    "if not os.path.exists('yolo_annotations2'):\n",
    "    os.makedirs('yolo_annotations2')\n",
    "\n",
    "for image, xmin, ymin, xmax, ymax, class_label in zip(image_names, xmin, ymin, xmax, ymax, class_labels):\n",
    "    # Delete the image extension\n",
    "    image_name, _ = os.path.splitext(image)\n",
    "    # calculate the center of the bounding box\n",
    "    x = (xmin + xmax) / 2\n",
    "    y = (ymin + ymax) / 2\n",
    "    # calculate the width and height of the bounding box\n",
    "    width = xmax - xmin\n",
    "    height = ymax - ymin\n",
    "    # Write the bounding box coordinates and class labels to a new text file in the format required by YOLO\n",
    "    with open(f'yolo_annotations2/{image_name}.txt', 'w') as f:\n",
    "        f.write('{} {} {} {} {}\\n'.format(class_label, x, y, width, height))"
   ]
  },
  {
   "cell_type": "code",
   "execution_count": null,
   "id": "563b6d67",
   "metadata": {},
   "outputs": [],
   "source": []
  }
 ],
 "metadata": {
  "kernelspec": {
   "display_name": "Python 3 (ipykernel)",
   "language": "python",
   "name": "python3"
  },
  "language_info": {
   "codemirror_mode": {
    "name": "ipython",
    "version": 3
   },
   "file_extension": ".py",
   "mimetype": "text/x-python",
   "name": "python",
   "nbconvert_exporter": "python",
   "pygments_lexer": "ipython3",
   "version": "3.9.13"
  }
 },
 "nbformat": 4,
 "nbformat_minor": 5
}
