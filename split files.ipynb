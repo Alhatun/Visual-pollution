{
 "cells": [
  {
   "cell_type": "code",
   "execution_count": 1,
   "id": "818790d2",
   "metadata": {},
   "outputs": [],
   "source": [
    "import os\n",
    "import shutil"
   ]
  },
  {
   "cell_type": "code",
   "execution_count": 3,
   "id": "812fb3c4",
   "metadata": {},
   "outputs": [],
   "source": [
    "# Define the directory where the images are stored\n",
    "image_dir = 'D:/dataset/dataset/images'\n",
    "# Define the directory where the text files are stored\n",
    "text_dir = 'D:/dataset/dataset/anno'\n",
    "\n",
    "# Get a list of all text files in the text folder\n",
    "text_files = os.listdir(text_dir)\n",
    "\n",
    "# Loop through the text files\n",
    "for file in text_files:\n",
    "    # Get the file name without the extension\n",
    "    file_name = os.path.splitext(file)[0]\n",
    "    # Check if an image with the same name exists in the image folder\n",
    "    image_path = os.path.join(image_dir, file_name + '.jpg')\n",
    "    if os.path.exists(image_path):\n",
    "        # If the image exists, copy it to a new location\n",
    "        new_location = 'D:/dataset/dataset/images2'\n",
    "        shutil.copy(image_path, new_location)"
   ]
  },
  {
   "cell_type": "code",
   "execution_count": null,
   "id": "91012925",
   "metadata": {},
   "outputs": [],
   "source": []
  }
 ],
 "metadata": {
  "kernelspec": {
   "display_name": "Python 3 (ipykernel)",
   "language": "python",
   "name": "python3"
  },
  "language_info": {
   "codemirror_mode": {
    "name": "ipython",
    "version": 3
   },
   "file_extension": ".py",
   "mimetype": "text/x-python",
   "name": "python",
   "nbconvert_exporter": "python",
   "pygments_lexer": "ipython3",
   "version": "3.9.13"
  }
 },
 "nbformat": 4,
 "nbformat_minor": 5
}
