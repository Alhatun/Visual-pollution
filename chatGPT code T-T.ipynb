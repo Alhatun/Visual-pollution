{
 "cells": [
  {
   "cell_type": "code",
   "execution_count": null,
   "id": "6457abb0",
   "metadata": {},
   "outputs": [],
   "source": [
    "import cv2\n",
    "\n",
    "# Function to draw a bounding box on an image\n",
    "def plot_box(xmin, ymin, xmax, ymax, img, color=(0, 255, 0), label=None, line_thickness=2, inverted=False):\n",
    "    # Draw a rectangle on the image\n",
    "    cv2.rectangle(img, (xmin, ymin), (xmax, ymax), color, thickness=line_thickness)\n",
    "    \n",
    "    # If a label is provided, draw the label on the image\n",
    "    if label:\n",
    "        text_size = cv2.getTextSize(label, 0, fontScale=line_thickness / 2, thickness=line_thickness)[0]\n",
    "        if inverted:\n",
    "            c1 = (xmax, ymax)\n",
    "            c2 = (c1[0] + text_size[0], c1[1] - text_size[1] - 3)\n",
    "        else:\n",
    "            c1 = (xmin, ymin)\n",
    "            c2 = (c1[0] + text_size[0], c1[1] - text_size[1] - 3)\n",
    "        cv2.rectangle(img, c1, c2, color, -1)\n",
    "        cv2.putText(img, label, (c1[0], c1[1] - 2), 0, line_thickness / 2, [225, 255, 255], thickness=line_thickness, lineType=cv2.LINE_AA)\n",
    "\n",
    "# Read the train.csv file\n",
    "with open('D:/dataset/dataset/dataset/train.csv') as f:\n",
    "    lines = f.readlines()\n",
    "\n",
    "# Skip the header line\n",
    "lines = lines[1:]\n",
    "\n",
    "# Loop through all lines in the file\n",
    "for line in lines:\n",
    "    # Extract the image path, category, and bounding box coordinates from the line\n",
    "    parts = line.strip().split(',')\n",
    "    image_path = parts[0]\n",
    "    category = parts[1]\n",
    "    xmin = int(parts[2])*2\n",
    "    ymin = int(parts[3])*2\n",
    "    xmax = int(parts[4])*2\n",
    "    ymax = int(parts[5])*2\n",
    "    \n",
    "    # Read the image\n",
    "    img = cv2.imread(f'D:/dataset/dataset/dataset/images/{image_path}')\n",
    "\n",
    "    # Draw the bounding box on the image\n",
    "    plot_box(xmin, ymin, xmax, ymax, img, label=category)\n",
    "\n",
    "    # Save the image with the bounding box drawn on it\n",
    "    cv2.imwrite(f'D:/dataset/dataset/dataset/drawn/{image_path}', img)\n"
   ]
  }
 ],
 "metadata": {
  "kernelspec": {
   "display_name": "Python 3 (ipykernel)",
   "language": "python",
   "name": "python3"
  },
  "language_info": {
   "codemirror_mode": {
    "name": "ipython",
    "version": 3
   },
   "file_extension": ".py",
   "mimetype": "text/x-python",
   "name": "python",
   "nbconvert_exporter": "python",
   "pygments_lexer": "ipython3",
   "version": "3.9.13"
  }
 },
 "nbformat": 4,
 "nbformat_minor": 5
}
